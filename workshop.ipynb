{
 "cells": [
  {
   "cell_type": "markdown",
   "id": "d1a1262e-d312-495c-ac53-c076fea4d6ce",
   "metadata": {},
   "source": [
    "## Training a convolutional neural network"
   ]
  },
  {
   "cell_type": "markdown",
   "id": "e8de0c1c-3716-4e6a-a235-b680b4e9e518",
   "metadata": {
    "tags": []
   },
   "source": [
    "#### Imports"
   ]
  },
  {
   "cell_type": "code",
   "execution_count": 47,
   "id": "40faca08-61ed-48f1-ae29-8eedd93456bd",
   "metadata": {},
   "outputs": [],
   "source": [
    "import os\n",
    "import numpy as np\n",
    "import pandas as pd\n",
    "import random\n",
    "import datetime\n",
    "\n",
    "import tensorflow as tf\n",
    "import keras\n",
    "from tensorflow import keras\n",
    "from tqdm import tqdm\n",
    "from sklearn.model_selection import train_test_split, StratifiedKFold\n",
    "from sklearn.preprocessing import StandardScaler, OneHotEncoder\n",
    "from sklearn.metrics import ConfusionMatrixDisplay\n",
    "from sklearn.metrics import confusion_matrix\n",
    "from sklearn.metrics import roc_curve, auc\n",
    "\n",
    "import matplotlib.pyplot as plt\n",
    "\n",
    "import sys\n",
    "sys.path.append('/g/data/k10/mr1465/Honours2022/scripts/neural_nets/cnn')\n",
    "import workshop_plots"
   ]
  },
  {
   "cell_type": "code",
   "execution_count": 2,
   "id": "b33d341c-e08c-4d81-9aa1-eaeca54d909a",
   "metadata": {},
   "outputs": [],
   "source": [
    "results_directory = '/g/data/k10/mr1465/Honours2022/scripts/neural_nets/cnn' # os.getcwd()\n",
    "data_directory = '/g/data/k10/mr1465/Honours2022/scripts/neural_nets/cnn/workshop_data.csv'"
   ]
  },
  {
   "cell_type": "code",
   "execution_count": 3,
   "id": "0b637e3c-956d-4b9e-9958-141cf24612ad",
   "metadata": {},
   "outputs": [],
   "source": [
    "# Global variables\n",
    "RANDOM_STATE = 42"
   ]
  },
  {
   "cell_type": "markdown",
   "id": "1e663ade-6344-4cf4-9c2b-7f0d7af2272d",
   "metadata": {},
   "source": [
    "#### Load data"
   ]
  },
  {
   "cell_type": "code",
   "execution_count": 4,
   "id": "08c611ab-af4f-4358-9468-7ac727e96683",
   "metadata": {},
   "outputs": [],
   "source": [
    "df = pd.read_csv(data_directory)"
   ]
  },
  {
   "cell_type": "code",
   "execution_count": 5,
   "id": "1292245a-a8c0-463e-a178-f96c3584421a",
   "metadata": {},
   "outputs": [
    {
     "data": {
      "text/plain": [
       "Index(['Himawari Latitude', 'Himawari Longitude', 'Himawari Surface Type',\n",
       "       'Himawari Observation Azimuth Angle',\n",
       "       'Himawari Observation Elevation Angle', 'Himawari Solar Azimuth Angle',\n",
       "       'Himawari Solar Zenith Angle', 'Himawari Band 1 Mean at 2km Resolution',\n",
       "       'Himawari Band 1 Sigma at 2km Resolution',\n",
       "       'Himawari Band 2 Mean at 2km Resolution',\n",
       "       'Himawari Band 2 Sigma at 2km Resolution',\n",
       "       'Himawari Band 3 Mean at 2km Resolution',\n",
       "       'Himawari Band 3 Sigma at 2km Resolution',\n",
       "       'Himawari Band 4 Mean at 2km Resolution',\n",
       "       'Himawari Band 4 Sigma at 2km Resolution',\n",
       "       'Himawari Band 5 Value at 2km Resolution',\n",
       "       'Himawari Band 6 Value at 2km Resolution',\n",
       "       'Himawari Band 7 Value at 2km Resolution',\n",
       "       'Himawari Band 8 Value at 2km Resolution',\n",
       "       'Himawari Band 9 Value at 2km Resolution',\n",
       "       'Himawari Band 10 Value at 2km Resolution',\n",
       "       'Himawari Band 11 Value at 2km Resolution',\n",
       "       'Himawari Band 12 Value at 2km Resolution',\n",
       "       'Himawari Band 13 Value at 2km Resolution',\n",
       "       'Himawari Band 14 Value at 2km Resolution',\n",
       "       'Himawari Band 15 Value at 2km Resolution',\n",
       "       'Himawari Band 16 Value at 2km Resolution', 'Himawari Folder Name',\n",
       "       'Himawari Original Array Position', 'Himawari Scene Start Time',\n",
       "       'Himawari Scene End Time', 'CPR-CALIOP VFM',\n",
       "       'CPR-CALIOP Multi_Layer_Flag', 'CPR-CALIOP Layer_Base_Altitude',\n",
       "       'CPR-CALIOP Layer_Top_Altitude', 'CPR-CALIOP Cloud_Phase',\n",
       "       'CPR-CALIOP Multi_Layer_Mask',\n",
       "       'Himawari Band 1 Mean at 2km Resolution t-1',\n",
       "       'Himawari Band 1 Sigma at 2km Resolution t-1',\n",
       "       'Himawari Band 2 Mean at 2km Resolution t-1',\n",
       "       'Himawari Band 2 Sigma at 2km Resolution t-1',\n",
       "       'Himawari Band 3 Mean at 2km Resolution t-1',\n",
       "       'Himawari Band 3 Sigma at 2km Resolution t-1',\n",
       "       'Himawari Band 4 Mean at 2km Resolution t-1',\n",
       "       'Himawari Band 4 Sigma at 2km Resolution t-1',\n",
       "       'Himawari Band 5 Value at 2km Resolution t-1',\n",
       "       'Himawari Band 6 Value at 2km Resolution t-1',\n",
       "       'Himawari Band 7 Value at 2km Resolution t-1',\n",
       "       'Himawari Band 8 Value at 2km Resolution t-1',\n",
       "       'Himawari Band 9 Value at 2km Resolution t-1',\n",
       "       'Himawari Band 10 Value at 2km Resolution t-1',\n",
       "       'Himawari Band 11 Value at 2km Resolution t-1',\n",
       "       'Himawari Band 12 Value at 2km Resolution t-1',\n",
       "       'Himawari Band 13 Value at 2km Resolution t-1',\n",
       "       'Himawari Band 14 Value at 2km Resolution t-1',\n",
       "       'Himawari Band 15 Value at 2km Resolution t-1',\n",
       "       'Himawari Band 16 Value at 2km Resolution t-1',\n",
       "       'Himawari Scene Start Time t-1', 'Himawari Scene End Time t-1'],\n",
       "      dtype='object')"
      ]
     },
     "execution_count": 5,
     "metadata": {},
     "output_type": "execute_result"
    }
   ],
   "source": [
    "df.columns # View variables"
   ]
  },
  {
   "cell_type": "markdown",
   "id": "20e2798d-ec95-42a5-946f-578796516e25",
   "metadata": {},
   "source": [
    "##### Check data coverage of target classes"
   ]
  },
  {
   "cell_type": "code",
   "execution_count": 39,
   "id": "bbc8298f-3fe7-4d6d-8d8c-c41124b4f830",
   "metadata": {},
   "outputs": [
    {
     "data": {
      "image/png": "[encoded data removed]",
      "text/plain": [
       "<Figure size 432x288 with 1 Axes>"
      ]
     },
     "metadata": {
      "needs_background": "light"
     },
     "output_type": "display_data"
    }
   ],
   "source": [
    "df_ml_mask = df['CPR-CALIOP Multi_Layer_Mask']\n",
    "workshop_plots.histogram_label_frequency(df_ml_mask, results_dir=results_directory)"
   ]
  },
  {
   "cell_type": "markdown",
   "id": "d8a75998-8e6c-4956-a942-5552b5c517f7",
   "metadata": {},
   "source": [
    "#### Prepare data"
   ]
  },
  {
   "cell_type": "markdown",
   "id": "07498c7f-e243-4802-ae9b-79d437d79261",
   "metadata": {},
   "source": [
    "##### Split data into training and testing sets"
   ]
  },
  {
   "cell_type": "code",
   "execution_count": 17,
   "id": "22bd73b0-0792-4d8b-aae2-0063b9e7b687",
   "metadata": {},
   "outputs": [],
   "source": [
    "df_train, df_test = train_test_split(df, test_size=0.2, random_state=RANDOM_STATE)\n",
    "df_train, df_test = df_train.dropna(), df_test.dropna()"
   ]
  },
  {
   "cell_type": "markdown",
   "id": "3ef5fc2d-8ac5-48ba-afcc-31275505c556",
   "metadata": {},
   "source": [
    "##### Select predictors and target"
   ]
  },
  {
   "cell_type": "code",
   "execution_count": 18,
   "id": "5eef2440-a964-495e-b7ba-b8442cb01540",
   "metadata": {},
   "outputs": [],
   "source": [
    "# Classify variables for ease of sub-selection\n",
    "\n",
    "ahi_metadata = ['Himawari Folder Name', 'Himawari Original Array Position', 'Himawari Scene Start Time', 'Himawari Scene End Time',\n",
    "                'Himawari Scene Start Time t-1', 'Himawari Scene End Time t-1']\n",
    "\n",
    "# All possible features start with \"Himawari\"\n",
    "ahi_features = [col for col in df.columns if col.startswith('Himawari') if col not in ahi_metadata]\n",
    "\n",
    "# Spectral observation channels\n",
    "ahi_channels = [x for x in ahi_features if x.startswith('Himawari Band')] \n",
    "ahi_channels = ahi_channels + [x + ' t-1' for x in ahi_channels]\n",
    "sigma_channels = [x for x in ahi_channels if 'Sigma' in x] # Standard deviation of the downscaled channels\n",
    "day_channels = [x for x in ahi_channels if int(x[14:16]) < 7] # Channels that operate during the daylight hours only"
   ]
  },
  {
   "cell_type": "code",
   "execution_count": 19,
   "id": "8d779f1f-d0a8-4821-aa36-ef7825f6aba8",
   "metadata": {},
   "outputs": [],
   "source": [
    "# List features and target to use\n",
    "features = [x for x in ahi_features if x not in sigma_channels] # Dropping the standard deviation channels\n",
    "target = ['CPR-CALIOP Multi_Layer_Flag']\n",
    "\n",
    "# How many classes are being targetted?\n",
    "n_classes = 2"
   ]
  },
  {
   "cell_type": "code",
   "execution_count": 20,
   "id": "7149a590-b154-4001-8217-bbc5791c9d58",
   "metadata": {},
   "outputs": [],
   "source": [
    "# Define features dataframe: X\n",
    "raw_X_train = df_train.loc[:,features]\n",
    "raw_X_test = df_test.loc[:,features]"
   ]
  },
  {
   "cell_type": "code",
   "execution_count": 21,
   "id": "e72447eb-376b-40c2-aba8-f0a5b82b278c",
   "metadata": {},
   "outputs": [],
   "source": [
    "# Define target dataframe: y\n",
    "raw_y_train = df_train.loc[:, target]\n",
    "raw_y_test = df_test.loc[:, target]"
   ]
  },
  {
   "cell_type": "markdown",
   "id": "0843cae1-de67-4419-80ec-d656175ceca8",
   "metadata": {},
   "source": [
    "##### Transform data for convolution"
   ]
  },
  {
   "cell_type": "code",
   "execution_count": 22,
   "id": "ec6b64d4-da21-41f7-83bb-021dc221aa48",
   "metadata": {},
   "outputs": [],
   "source": [
    "# Normalise\n",
    "scaler = StandardScaler().fit(raw_X_train)\n",
    "raw_X_train = pd.DataFrame(scaler.transform(raw_X_train), columns=features)\n",
    "raw_X_test = pd.DataFrame(scaler.transform(raw_X_test), columns=features)"
   ]
  },
  {
   "cell_type": "code",
   "execution_count": 23,
   "id": "0d10e2ab-c949-4dbc-a8d7-3854e206bdac",
   "metadata": {},
   "outputs": [],
   "source": [
    "# Shape data for convolution\n",
    "g1 = [x for x in raw_X_test.columns if not x.startswith('Himawari Band')] # Static features\n",
    "g2 = [x for x in raw_X_test.columns if x.endswith('Resolution')] # Time current\n",
    "g3 = [x for x in raw_X_test.columns if x.endswith('t-1')] # Time previous\n",
    "arrays = []\n",
    "for i in range(len(raw_X_test)):\n",
    "    arrays.append(np.array([raw_X_test.iloc[i][g1+g3].values, raw_X_test.iloc[i][g1+g2].values]))\n",
    "X_test = np.stack(arrays)\n",
    "arrays = []\n",
    "for i in range(len(raw_X_train)):\n",
    "    arrays.append(np.array([raw_X_train.iloc[i][g1+g3].values, raw_X_train.iloc[i][g1+g2].values]))\n",
    "X_train = np.stack(arrays)"
   ]
  },
  {
   "cell_type": "code",
   "execution_count": 50,
   "id": "175e9b40-d53c-4851-ac02-54e3a0ace2ef",
   "metadata": {},
   "outputs": [],
   "source": [
    "# Encode target classes (reshape)\n",
    "encoder = OneHotEncoder()\n",
    "y_train = encoder.fit(raw_y_train.values.reshape(-1,1))\n",
    "y_train = y_train.transform(raw_y_train.values.reshape(-1,1)).toarray()\n",
    "y_test = encoder.fit(raw_y_test.values.reshape(-1,1))\n",
    "y_test = y_test.transform(raw_y_test.values.reshape(-1,1)).toarray()"
   ]
  },
  {
   "cell_type": "code",
   "execution_count": 25,
   "id": "463573d4-aa22-43c9-aa3c-38e3ce8f9276",
   "metadata": {},
   "outputs": [
    {
     "name": "stdout",
     "output_type": "stream",
     "text": [
      "(2805, 2, 23)\n",
      "(2805, 2)\n"
     ]
    }
   ],
   "source": [
    "# View results\n",
    "print(X_train.shape)\n",
    "print(y_train.shape)"
   ]
  },
  {
   "cell_type": "markdown",
   "id": "740fabaa-529e-4858-ba5a-65b62213d3cb",
   "metadata": {},
   "source": [
    "### Create model"
   ]
  },
  {
   "cell_type": "code",
   "execution_count": 26,
   "id": "55583324-f8a8-4ced-ad6d-79f21578bd10",
   "metadata": {},
   "outputs": [],
   "source": [
    "# Define model architechture\n",
    "def define_model(hp, n_features, n_classes, n_timesteps=2, model_optimiser='adam'):\n",
    "    model = keras.models.Sequential()\n",
    "    model.add(keras.layers.Conv1D(filters=hp['n_filters'], kernel_size=2, activation='relu', input_shape=(n_timesteps,n_features))) # Convolve\n",
    "    model.add(keras.layers.MaxPooling1D(pool_size=2, padding='same')) # Pooling layer\n",
    "    model.add(keras.layers.Dropout(0.2)) # Dropout\n",
    "    model.add(keras.layers.Flatten())\n",
    "    model.add(keras.layers.Dense(n_features, activation='relu')) # Fully connected layer\n",
    "    # Inner/hidden layers\n",
    "    for i in range(hp['n_layers']):\n",
    "        model.add(keras.layers.Dense(hp['n_neurons'], activation='relu'))\n",
    "    model.add(keras.layers.Dense(n_classes, activation='softmax')) # Number of output neurons, depends on number of classes wanted for classification\n",
    "    model.compile(loss='categorical_crossentropy', optimizer=model_optimiser, metrics=['accuracy'])\n",
    "    return model"
   ]
  },
  {
   "cell_type": "code",
   "execution_count": 27,
   "id": "7eabfe81-948a-4673-b751-e8992ba4f503",
   "metadata": {},
   "outputs": [],
   "source": [
    "def evaluate_model(model, X_test, y_test):\n",
    "    \"\"\"\n",
    "    evaluate model on test set and show results in dataframe.\n",
    "\n",
    "    Parameters\n",
    "    ----------\n",
    "    model : keras model\n",
    "        trained keras model.\n",
    "    X_test : numpy array\n",
    "        Features of holdout set.\n",
    "    y_test : numpy array\n",
    "        Labels of holdout set.\n",
    "\n",
    "    Returns\n",
    "    -------\n",
    "    display_df : DataFrame\n",
    "        Pandas dataframe containing evaluation results.\n",
    "    \"\"\"\n",
    "    # Get accuracy metrics\n",
    "    eval_dict = model.evaluate(X_test, y_test, return_dict=True)\n",
    "    # Get PoD of multilayer\n",
    "    predictions = model.predict(X_test)\n",
    "    y_pred_ml = np.ravel(encoder.inverse_transform(predictions)) == 2\n",
    "    y_test_ml = np.ravel(encoder.inverse_transform(y_test)) == 2 # Number correct\n",
    "    # Output\n",
    "    eval_dict['PoD'] = np.mean([y_test_ml[i] == y_pred_ml[i] for i in range(len(y_test_ml)) if y_test_ml[i] == 1]) # Probility of detection\n",
    "    display_df = pd.DataFrame(eval_dict, index=[0])\n",
    "    return display_df"
   ]
  },
  {
   "cell_type": "markdown",
   "id": "1850c1f2-0002-4a6a-95b5-31df3acf5a7a",
   "metadata": {},
   "source": [
    "##### Chose model hyper parameters"
   ]
  },
  {
   "cell_type": "code",
   "execution_count": 28,
   "id": "d65f185d-11b3-4673-b8ca-c16809631b93",
   "metadata": {},
   "outputs": [],
   "source": [
    "# Choose optimiser\n",
    "\n",
    "# optimiser = 'Adam'\n",
    "optimiser = 'SGD'"
   ]
  },
  {
   "cell_type": "code",
   "execution_count": 29,
   "id": "dc6488dc-91fe-43df-a653-b36419ae8529",
   "metadata": {},
   "outputs": [],
   "source": [
    "# Choose model architecture specifications\n",
    "hp = {'n_layers': 5,\n",
    "        'n_neurons': 100,\n",
    "        'n_epochs': 150,\n",
    "        'n_filters': 64,\n",
    "        'optimiser': optimiser,\n",
    "        }"
   ]
  },
  {
   "cell_type": "markdown",
   "id": "3c1356f9-e351-4cc7-b1c7-0ca5fd51925f",
   "metadata": {},
   "source": [
    "##### Perform K-fold Cross Validation"
   ]
  },
  {
   "cell_type": "code",
   "execution_count": 75,
   "id": "efe75c57-6a26-48cc-8bc2-43abb2608166",
   "metadata": {},
   "outputs": [
    {
     "name": "stdout",
     "output_type": "stream",
     "text": [
      "7/7 [==============================] - 0s 2ms/step - loss: 0.3549 - accuracy: 0.8318\n",
      "7/7 [==============================] - 0s 1ms/step\n"
     ]
    },
    {
     "name": "stderr",
     "output_type": "stream",
     "text": [
      "/opt/conda/envs/mlenv/lib/python3.9/site-packages/numpy/core/fromnumeric.py:3474: RuntimeWarning: Mean of empty slice.\n",
      "  return _methods._mean(a, axis=axis, dtype=dtype,\n",
      "/opt/conda/envs/mlenv/lib/python3.9/site-packages/numpy/core/_methods.py:189: RuntimeWarning: invalid value encountered in double_scalars\n",
      "  ret = ret.dtype.type(ret / rcount)\n"
     ]
    },
    {
     "name": "stdout",
     "output_type": "stream",
     "text": [
      "7/7 [==============================] - 0s 2ms/step - loss: 0.3604 - accuracy: 0.8357\n",
      "7/7 [==============================] - 0s 1ms/step\n"
     ]
    },
    {
     "name": "stderr",
     "output_type": "stream",
     "text": [
      "/opt/conda/envs/mlenv/lib/python3.9/site-packages/numpy/core/fromnumeric.py:3474: RuntimeWarning: Mean of empty slice.\n",
      "  return _methods._mean(a, axis=axis, dtype=dtype,\n",
      "/opt/conda/envs/mlenv/lib/python3.9/site-packages/numpy/core/_methods.py:189: RuntimeWarning: invalid value encountered in double_scalars\n",
      "  ret = ret.dtype.type(ret / rcount)\n"
     ]
    },
    {
     "name": "stdout",
     "output_type": "stream",
     "text": [
      "7/7 [==============================] - 0s 2ms/step - loss: 0.2848 - accuracy: 0.8498\n",
      "7/7 [==============================] - 0s 2ms/step\n"
     ]
    },
    {
     "name": "stderr",
     "output_type": "stream",
     "text": [
      "/opt/conda/envs/mlenv/lib/python3.9/site-packages/numpy/core/fromnumeric.py:3474: RuntimeWarning: Mean of empty slice.\n",
      "  return _methods._mean(a, axis=axis, dtype=dtype,\n",
      "/opt/conda/envs/mlenv/lib/python3.9/site-packages/numpy/core/_methods.py:189: RuntimeWarning: invalid value encountered in double_scalars\n",
      "  ret = ret.dtype.type(ret / rcount)\n"
     ]
    },
    {
     "name": "stdout",
     "output_type": "stream",
     "text": [
      "7/7 [==============================] - 0s 2ms/step - loss: 0.4402 - accuracy: 0.8685\n",
      "7/7 [==============================] - 0s 2ms/step\n"
     ]
    },
    {
     "name": "stderr",
     "output_type": "stream",
     "text": [
      "/opt/conda/envs/mlenv/lib/python3.9/site-packages/numpy/core/fromnumeric.py:3474: RuntimeWarning: Mean of empty slice.\n",
      "  return _methods._mean(a, axis=axis, dtype=dtype,\n",
      "/opt/conda/envs/mlenv/lib/python3.9/site-packages/numpy/core/_methods.py:189: RuntimeWarning: invalid value encountered in double_scalars\n",
      "  ret = ret.dtype.type(ret / rcount)\n"
     ]
    },
    {
     "name": "stdout",
     "output_type": "stream",
     "text": [
      "7/7 [==============================] - 0s 2ms/step - loss: 0.3585 - accuracy: 0.8357\n",
      "7/7 [==============================] - 0s 2ms/step\n"
     ]
    },
    {
     "name": "stderr",
     "output_type": "stream",
     "text": [
      "/opt/conda/envs/mlenv/lib/python3.9/site-packages/numpy/core/fromnumeric.py:3474: RuntimeWarning: Mean of empty slice.\n",
      "  return _methods._mean(a, axis=axis, dtype=dtype,\n",
      "/opt/conda/envs/mlenv/lib/python3.9/site-packages/numpy/core/_methods.py:189: RuntimeWarning: invalid value encountered in double_scalars\n",
      "  ret = ret.dtype.type(ret / rcount)\n"
     ]
    }
   ],
   "source": [
    "kfold = StratifiedKFold(n_splits=5, shuffle=True, random_state=42)\n",
    "# Perform CV\n",
    "fold_results = []\n",
    "for train, test in kfold.split(X_train, y_train[:,0]):\n",
    "    model = define_model(hp, n_features=X_train.shape[2], n_classes=n_classes, model_optimiser=hp['optimiser'])\n",
    "    model.fit(X_train[train], y_train[train, :], epochs=hp['n_epochs'], batch_size=10, verbose=0)\n",
    "    fold_results.append(evaluate_model(model, X_train[test], y_train[test, :]))"
   ]
  },
  {
   "cell_type": "markdown",
   "id": "6c953eba-fc54-4743-a818-5ae2507a41af",
   "metadata": {},
   "source": [
    "##### CV results"
   ]
  },
  {
   "cell_type": "code",
   "execution_count": 86,
   "id": "6c467fa1-bba1-4697-b30c-bcd7cdbb1110",
   "metadata": {},
   "outputs": [
    {
     "data": {
      "text/html": [
       "<div>\n",
       "<style scoped>\n",
       "    .dataframe tbody tr th:only-of-type {\n",
       "        vertical-align: middle;\n",
       "    }\n",
       "\n",
       "    .dataframe tbody tr th {\n",
       "        vertical-align: top;\n",
       "    }\n",
       "\n",
       "    .dataframe thead th {\n",
       "        text-align: right;\n",
       "    }\n",
       "</style>\n",
       "<table border=\"1\" class=\"dataframe\">\n",
       "  <thead>\n",
       "    <tr style=\"text-align: right;\">\n",
       "      <th></th>\n",
       "      <th>loss</th>\n",
       "      <th>accuracy</th>\n",
       "      <th>PoD</th>\n",
       "    </tr>\n",
       "  </thead>\n",
       "  <tbody>\n",
       "    <tr>\n",
       "      <th>0</th>\n",
       "      <td>0.354904</td>\n",
       "      <td>0.831776</td>\n",
       "      <td>NaN</td>\n",
       "    </tr>\n",
       "    <tr>\n",
       "      <th>0</th>\n",
       "      <td>0.360377</td>\n",
       "      <td>0.835681</td>\n",
       "      <td>NaN</td>\n",
       "    </tr>\n",
       "    <tr>\n",
       "      <th>0</th>\n",
       "      <td>0.284772</td>\n",
       "      <td>0.849765</td>\n",
       "      <td>NaN</td>\n",
       "    </tr>\n",
       "    <tr>\n",
       "      <th>0</th>\n",
       "      <td>0.440189</td>\n",
       "      <td>0.868545</td>\n",
       "      <td>NaN</td>\n",
       "    </tr>\n",
       "    <tr>\n",
       "      <th>0</th>\n",
       "      <td>0.358502</td>\n",
       "      <td>0.835681</td>\n",
       "      <td>NaN</td>\n",
       "    </tr>\n",
       "  </tbody>\n",
       "</table>\n",
       "</div>"
      ],
      "text/plain": [
       "       loss  accuracy  PoD\n",
       "0  0.354904  0.831776  NaN\n",
       "0  0.360377  0.835681  NaN\n",
       "0  0.284772  0.849765  NaN\n",
       "0  0.440189  0.868545  NaN\n",
       "0  0.358502  0.835681  NaN"
      ]
     },
     "execution_count": 86,
     "metadata": {},
     "output_type": "execute_result"
    }
   ],
   "source": [
    "cv_results = pd.concat(fold_results)\n",
    "cv_results"
   ]
  },
  {
   "cell_type": "code",
   "execution_count": 88,
   "id": "bac5548b-b46c-40ac-89dd-93c0acb4b59e",
   "metadata": {},
   "outputs": [
    {
     "data": {
      "text/plain": [
       "loss        0.359749\n",
       "accuracy    0.844289\n",
       "PoD              NaN\n",
       "dtype: float64"
      ]
     },
     "execution_count": 88,
     "metadata": {},
     "output_type": "execute_result"
    }
   ],
   "source": [
    "# Get mean CV statistics\n",
    "cv_results.mean(axis=0)"
   ]
  },
  {
   "cell_type": "markdown",
   "id": "554e2277-92d6-4467-b86e-a8ca8d8384cb",
   "metadata": {},
   "source": [
    "#### Train final model configuration on all train set data"
   ]
  },
  {
   "cell_type": "code",
   "execution_count": 35,
   "id": "c8e30702-e134-4d0e-aff7-7d1b0a984574",
   "metadata": {},
   "outputs": [
    {
     "data": {
      "text/plain": [
       "<keras.callbacks.History at 0x14602e162910>"
      ]
     },
     "execution_count": 35,
     "metadata": {},
     "output_type": "execute_result"
    }
   ],
   "source": [
    "# Fit final model\n",
    "model_best = define_model(hp, n_features=X_train.shape[2], n_classes=n_classes, model_optimiser=hp['optimiser'])\n",
    "model_best.fit(X_train, y_train, epochs=hp['n_epochs'], batch_size=10, verbose=0)"
   ]
  },
  {
   "cell_type": "code",
   "execution_count": 32,
   "id": "5af427ac-2b28-4d7f-8f02-6a28668962a6",
   "metadata": {},
   "outputs": [
    {
     "name": "stdout",
     "output_type": "stream",
     "text": [
      "88/88 [==============================] - 0s 2ms/step - loss: 0.1896 - accuracy: 0.9180\n",
      "88/88 [==============================] - 0s 1ms/step\n"
     ]
    },
    {
     "name": "stderr",
     "output_type": "stream",
     "text": [
      "/opt/conda/envs/mlenv/lib/python3.9/site-packages/numpy/core/fromnumeric.py:3474: RuntimeWarning: Mean of empty slice.\n",
      "  return _methods._mean(a, axis=axis, dtype=dtype,\n",
      "/opt/conda/envs/mlenv/lib/python3.9/site-packages/numpy/core/_methods.py:189: RuntimeWarning: invalid value encountered in double_scalars\n",
      "  ret = ret.dtype.type(ret / rcount)\n"
     ]
    },
    {
     "data": {
      "text/html": [
       "<div>\n",
       "<style scoped>\n",
       "    .dataframe tbody tr th:only-of-type {\n",
       "        vertical-align: middle;\n",
       "    }\n",
       "\n",
       "    .dataframe tbody tr th {\n",
       "        vertical-align: top;\n",
       "    }\n",
       "\n",
       "    .dataframe thead th {\n",
       "        text-align: right;\n",
       "    }\n",
       "</style>\n",
       "<table border=\"1\" class=\"dataframe\">\n",
       "  <thead>\n",
       "    <tr style=\"text-align: right;\">\n",
       "      <th></th>\n",
       "      <th>loss</th>\n",
       "      <th>accuracy</th>\n",
       "      <th>PoD</th>\n",
       "    </tr>\n",
       "  </thead>\n",
       "  <tbody>\n",
       "    <tr>\n",
       "      <th>0</th>\n",
       "      <td>0.189593</td>\n",
       "      <td>0.918004</td>\n",
       "      <td>NaN</td>\n",
       "    </tr>\n",
       "  </tbody>\n",
       "</table>\n",
       "</div>"
      ],
      "text/plain": [
       "       loss  accuracy  PoD\n",
       "0  0.189593  0.918004  NaN"
      ]
     },
     "execution_count": 32,
     "metadata": {},
     "output_type": "execute_result"
    }
   ],
   "source": [
    "# Training set results\n",
    "evaluate_model(model_best, X_train, y_train)"
   ]
  },
  {
   "cell_type": "markdown",
   "id": "44b2cc5c-b386-49ae-a971-893ca350a402",
   "metadata": {},
   "source": [
    "## Assess results on test set"
   ]
  },
  {
   "cell_type": "code",
   "execution_count": 33,
   "id": "9a055710-fc01-4b54-8ae6-3efc2755908a",
   "metadata": {},
   "outputs": [
    {
     "name": "stdout",
     "output_type": "stream",
     "text": [
      "21/21 [==============================] - 0s 2ms/step - loss: 0.2757 - accuracy: 0.8791\n",
      "21/21 [==============================] - 0s 1ms/step\n"
     ]
    },
    {
     "name": "stderr",
     "output_type": "stream",
     "text": [
      "/opt/conda/envs/mlenv/lib/python3.9/site-packages/numpy/core/fromnumeric.py:3474: RuntimeWarning: Mean of empty slice.\n",
      "  return _methods._mean(a, axis=axis, dtype=dtype,\n",
      "/opt/conda/envs/mlenv/lib/python3.9/site-packages/numpy/core/_methods.py:189: RuntimeWarning: invalid value encountered in double_scalars\n",
      "  ret = ret.dtype.type(ret / rcount)\n"
     ]
    },
    {
     "data": {
      "text/html": [
       "<div>\n",
       "<style scoped>\n",
       "    .dataframe tbody tr th:only-of-type {\n",
       "        vertical-align: middle;\n",
       "    }\n",
       "\n",
       "    .dataframe tbody tr th {\n",
       "        vertical-align: top;\n",
       "    }\n",
       "\n",
       "    .dataframe thead th {\n",
       "        text-align: right;\n",
       "    }\n",
       "</style>\n",
       "<table border=\"1\" class=\"dataframe\">\n",
       "  <thead>\n",
       "    <tr style=\"text-align: right;\">\n",
       "      <th></th>\n",
       "      <th>loss</th>\n",
       "      <th>accuracy</th>\n",
       "      <th>PoD</th>\n",
       "    </tr>\n",
       "  </thead>\n",
       "  <tbody>\n",
       "    <tr>\n",
       "      <th>0</th>\n",
       "      <td>0.275746</td>\n",
       "      <td>0.879104</td>\n",
       "      <td>NaN</td>\n",
       "    </tr>\n",
       "  </tbody>\n",
       "</table>\n",
       "</div>"
      ],
      "text/plain": [
       "       loss  accuracy  PoD\n",
       "0  0.275746  0.879104  NaN"
      ]
     },
     "execution_count": 33,
     "metadata": {},
     "output_type": "execute_result"
    }
   ],
   "source": [
    "# Get basic statistics\n",
    "evaluate_model(model_best, X_test, y_test)"
   ]
  },
  {
   "cell_type": "code",
   "execution_count": 51,
   "id": "828ffb89-0c3c-4707-9e29-718adb957efe",
   "metadata": {},
   "outputs": [
    {
     "name": "stdout",
     "output_type": "stream",
     "text": [
      "21/21 [==============================] - 0s 2ms/step\n"
     ]
    }
   ],
   "source": [
    "# Predict on test set\n",
    "y_pred = model_best.predict(X_test)\n",
    "y_pred_cm = encoder.inverse_transform(y_pred)\n",
    "y_test_cm = encoder.inverse_transform(y_test)"
   ]
  },
  {
   "cell_type": "markdown",
   "id": "1e89e7dd-c79b-4c03-9491-9c8c3aacc273",
   "metadata": {},
   "source": [
    "##### 1. Confusion matrix"
   ]
  },
  {
   "cell_type": "code",
   "execution_count": 69,
   "id": "c47815db-42d8-4523-81a1-f8cf574218c8",
   "metadata": {},
   "outputs": [
    {
     "data": {
      "image/png": "[encoded data removed]",
      "text/plain": [
       "<Figure size 432x288 with 2 Axes>"
      ]
     },
     "metadata": {
      "needs_background": "light"
     },
     "output_type": "display_data"
    }
   ],
   "source": [
    "# Format options\n",
    "# display_labels = [\"No cloud\", \"Single-layer\", \"Multi-layer\"]\n",
    "display_labels = [\"No cloud\", \"Cloud\"]\n",
    "cmap = plt.cm.Greys\n",
    "font_s = 12\n",
    "\n",
    "# Calculate data\n",
    "cnf_matrix = confusion_matrix(y_test_cm, y_pred_cm, normalize='true')\n",
    "\n",
    "# Plot result\n",
    "fig, ax = plt.subplots()\n",
    "disp = ConfusionMatrixDisplay(confusion_matrix=cnf_matrix, display_labels=display_labels)\n",
    "disp.plot(cmap=cmap, ax=ax)\n",
    "disp.ax_.get_images()[0].set_clim(0, 1) # Set cbar limits\n",
    "\n",
    "fig.savefig('{}/confusion_matrix.jpg'.format(results_directory), dpi=300, bbox_inches='tight')"
   ]
  },
  {
   "cell_type": "markdown",
   "id": "24f01782-d50e-412d-818f-659fcd0a7c9c",
   "metadata": {},
   "source": [
    "##### 2. ROC curve"
   ]
  },
  {
   "cell_type": "code",
   "execution_count": 59,
   "id": "591907f0-0263-455f-b8f7-89011fcf5ac0",
   "metadata": {},
   "outputs": [],
   "source": [
    "# - Compute ROC curve and ROC area for each class\n",
    "fpr = {}\n",
    "tpr = {}\n",
    "auc_di = {}\n",
    "for i in range(n_classes):\n",
    "    fpr[i], tpr[i], _ = roc_curve(y_test[:, i], y_pred[:, i])\n",
    "    auc_di[i] = auc(fpr[i], tpr[i])\n",
    "# - Compute micro-average ROC curve and ROC area\n",
    "fpr[\"all\"], tpr[\"all\"], _ = roc_curve(y_test.ravel(), y_pred.ravel())\n",
    "auc_di[\"all\"] = auc(fpr[\"all\"], tpr[\"all\"])"
   ]
  },
  {
   "cell_type": "code",
   "execution_count": 63,
   "id": "6db9522e-c027-4930-b4d1-4cbfe993e068",
   "metadata": {},
   "outputs": [],
   "source": [
    "# Format options for plot\n",
    "meta_di = {0:['no cloud','darkred','--'], 1:['cloud','darkred',':'], 2:['multi-layer cloud','darkred','-.'], 'all':['all-classes','darkgreen','-']}"
   ]
  },
  {
   "cell_type": "code",
   "execution_count": 61,
   "id": "d14cbe2e-d16b-41c7-88c6-6a7729f54b7e",
   "metadata": {},
   "outputs": [
    {
     "data": {
      "image/png": "[encoded data removed]",
      "text/plain": [
       "<Figure size 432x432 with 1 Axes>"
      ]
     },
     "metadata": {
      "needs_background": "light"
     },
     "output_type": "display_data"
    }
   ],
   "source": [
    "fig, ax = plt.subplots(figsize=(6,6))\n",
    "\n",
    "# Plot no skill curve\n",
    "ax.plot([0, 1], [0, 1], 'k--', label='No skill curve')\n",
    "\n",
    "# Plot data\n",
    "for key in auc_di.keys():\n",
    "    ax.plot(fpr[key], tpr[key], label='Model {} (AUC: {:.2f})'.format(meta_di[key][0], auc_di[key]), c=meta_di[key][1], linestyle=meta_di[key][2]) # Plot results\n",
    "\n",
    "# Format plot\n",
    "ax.set_xlabel('False positive rate', fontsize=font_s)\n",
    "ax.set_ylabel('True positive rate', fontsize=font_s)\n",
    "ax.legend(loc='lower right', fontsize=font_s-2)\n",
    "\n",
    "fig.savefig('{}/ROC.jpg'.format(results_directory), dpi=300, bbox_inches='tight')"
   ]
  },
  {
   "cell_type": "markdown",
   "id": "880292f5-44d3-4fd6-8f6e-0befda941593",
   "metadata": {},
   "source": [
    "##### 3. Precision and recall "
   ]
  },
  {
   "cell_type": "code",
   "execution_count": 70,
   "id": "8a4cb686-a366-46c7-a3ed-fb7a88dbe45c",
   "metadata": {},
   "outputs": [],
   "source": [
    "# True and flase postive rates for model threshold\n",
    "FP = cnf_matrix.sum(axis=0) - np.diag(cnf_matrix)  \n",
    "FN = cnf_matrix.sum(axis=1) - np.diag(cnf_matrix)\n",
    "TP = np.diag(cnf_matrix)\n",
    "TN = cnf_matrix.sum() - (FP + FN + TP)"
   ]
  },
  {
   "cell_type": "code",
   "execution_count": 72,
   "id": "54918503-6bc1-4528-bd98-b6d921841042",
   "metadata": {},
   "outputs": [],
   "source": [
    "# Get precision\n",
    "# What proportion of positive identifications was actually correct?"
   ]
  },
  {
   "cell_type": "code",
   "execution_count": 73,
   "id": "509f561b-f53d-4fba-a2a7-68a1e870235c",
   "metadata": {},
   "outputs": [
    {
     "name": "stdout",
     "output_type": "stream",
     "text": [
      "Precsion = [0.71655987 0.91668444]\n"
     ]
    }
   ],
   "source": [
    "precision = TP / (TP + FP)\n",
    "print('Precsion =', precision)"
   ]
  },
  {
   "cell_type": "code",
   "execution_count": 75,
   "id": "8389bbb0-73b9-4dc2-a565-3937221ee78b",
   "metadata": {},
   "outputs": [],
   "source": [
    "# Get recall (AKA Probability of detection)\n",
    "# What proportion of actual positives was identified correctly?"
   ]
  },
  {
   "cell_type": "code",
   "execution_count": 76,
   "id": "4bc8787d-c78d-4dd0-ac30-4c50cdafce71",
   "metadata": {},
   "outputs": [
    {
     "name": "stdout",
     "output_type": "stream",
     "text": [
      "Recall = [0.94301471 0.62698413]\n"
     ]
    }
   ],
   "source": [
    "recall = TP / (TP + FN)\n",
    "print('Recall =', recall)"
   ]
  },
  {
   "cell_type": "code",
   "execution_count": null,
   "id": "81ed7e0c-e14f-4dda-ad64-c7828f491ceb",
   "metadata": {},
   "outputs": [],
   "source": []
  }
 ],
 "metadata": {
  "kernelspec": {
   "display_name": "Python 3 (ipykernel)",
   "language": "python",
   "name": "python3"
  },
  "language_info": {
   "codemirror_mode": {
    "name": "ipython",
    "version": 3
   },
   "file_extension": ".py",
   "mimetype": "text/x-python",
   "name": "python",
   "nbconvert_exporter": "python",
   "pygments_lexer": "ipython3",
   "version": "3.9.12"
  }
 },
 "nbformat": 4,
 "nbformat_minor": 5
}
